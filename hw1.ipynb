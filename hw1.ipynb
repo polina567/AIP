{
 "cells": [
  {
   "cell_type": "code",
   "execution_count": 1,
   "id": "2d0a06ca",
   "metadata": {},
   "outputs": [
    {
     "name": "stdout",
     "output_type": "stream",
     "text": [
      "Введите первое число: 4\n",
      "Введите второе число: 67\n",
      "НОД = 1\n"
     ]
    }
   ],
   "source": [
    "# Задача 1\n",
    "a = int(input('Введите первое число: '))\n",
    "b = int(input('Введите второе число: '))\n",
    "\n",
    "while a != 0 and b != 0:\n",
    "    if a > b:\n",
    "        a = a % b\n",
    "    else:\n",
    "        b = b % a\n",
    " \n",
    "print('НОД =', a + b)"
   ]
  },
  {
   "cell_type": "code",
   "execution_count": 2,
   "id": "b8241ca4",
   "metadata": {},
   "outputs": [
    {
     "name": "stdout",
     "output_type": "stream",
     "text": [
      "Введите число: 42\n",
      "Результат: 101010\n"
     ]
    }
   ],
   "source": [
    "# Задача 2\n",
    "n = int(input(\"Введите число: \"))\n",
    "b = ''\n",
    " \n",
    "while n > 0:\n",
    "    b = str(n % 2) + b\n",
    "    n = n // 2\n",
    " \n",
    "print(\"Результат:\", b)"
   ]
  },
  {
   "cell_type": "code",
   "execution_count": 3,
   "id": "b0465cdb",
   "metadata": {},
   "outputs": [
    {
     "name": "stdout",
     "output_type": "stream",
     "text": [
      "Введите число: 13\n",
      "Число простое\n"
     ]
    }
   ],
   "source": [
    "# Задача 3\n",
    "n = int(input(\"Введите число: \"))\n",
    "k = 0\n",
    "\n",
    "for i in range(2, n // 2+1):\n",
    "    if (n % i == 0):\n",
    "        k = k + 1\n",
    "        \n",
    "if (k <= 0):\n",
    "    print(\"Число простое\")\n",
    "else:\n",
    "    print(\"Число не является простым\")"
   ]
  },
  {
   "cell_type": "code",
   "execution_count": 4,
   "id": "fd741be6",
   "metadata": {},
   "outputs": [
    {
     "name": "stdout",
     "output_type": "stream",
     "text": [
      "Введите число: 346\n",
      "Результат: 4\n"
     ]
    }
   ],
   "source": [
    "# Задача 4\n",
    "def sum_digits(n):\n",
    "    r = sum(map(int, str(n)))\n",
    "    return sum_digits(r) if r > 9 else r\n",
    "\n",
    "print(\"Результат:\", sum_digits(input(\"Введите число: \")))"
   ]
  },
  {
   "cell_type": "code",
   "execution_count": 13,
   "id": "072aa05e",
   "metadata": {},
   "outputs": [
    {
     "name": "stdout",
     "output_type": "stream",
     "text": [
      "Введите координаты х1 через пробел: 3 5\n",
      "Введите координаты х2 через пробел: 4 -2\n",
      "Введите координаты х3 через пробел: 0 -4\n",
      "Введите координаты х4 через пробел: -2 3\n",
      "Точка пересечения диагоналей:  (1.391304347826087, 0.17391304347826086)\n"
     ]
    }
   ],
   "source": [
    "# Задача 5\n",
    "A = tuple(map(int, input(\"Введите координаты х1 через пробел: \").split()))\n",
    "C = tuple(map(int, input(\"Введите координаты х2 через пробел: \").split()))\n",
    "B = tuple(map(int, input(\"Введите координаты х3 через пробел: \").split()))\n",
    "D = tuple(map(int, input(\"Введите координаты х4 через пробел: \").split()))\n",
    "\n",
    "s = ((A[0]-B[0])*(A[1]+B[1]) + (B[0]-C[0])*(B[1]+C[1]) + (C[0]-D[0])*(C[1]+D[1]) + (D[0]-A[0])*(D[1]+A[1])) / 2\n",
    "\n",
    "if (s == 0):\n",
    "    raise Exception('Точки лежат на одной прямой')\n",
    "\n",
    "def line_intersection(line1, line2):\n",
    "    xdiff = (line1[0][0] - line1[1][0], line2[0][0] - line2[1][0])\n",
    "    ydiff = (line1[0][1] - line1[1][1], line2[0][1] - line2[1][1])\n",
    "\n",
    "    def det(a, b):\n",
    "        return a[0] * b[1] - a[1] * b[0]\n",
    "\n",
    "    div = det(xdiff, ydiff)\n",
    "    \n",
    "    d = (det(*line1), det(*line2))\n",
    "    x = det(d, xdiff) / div\n",
    "    y = det(d, ydiff) / div\n",
    "    return x, y\n",
    "\n",
    "print (\"Точка пересечения диагоналей: \", line_intersection((A, B), (C, D)))"
   ]
  },
  {
   "cell_type": "code",
   "execution_count": 12,
   "id": "3b2ea797",
   "metadata": {},
   "outputs": [
    {
     "name": "stdout",
     "output_type": "stream",
     "text": [
      "6\n",
      "12\n"
     ]
    }
   ],
   "source": [
    "# Задача 6\n",
    "def maxArea(A, Len) :\n",
    "    area = 0\n",
    "    for i in range(Len) :\n",
    "        for j in range(i + 1, Len) :\n",
    "           \n",
    "            area = max(area, min(A[j], A[i]) * (j - i))\n",
    "    return area\n",
    " \n",
    "a = [ 1, 5, 4, 3 ]\n",
    "b = [ 3, 1, 2, 4, 5 ]\n",
    " \n",
    "len1 = len(a)\n",
    "print(maxArea(a, len1))\n",
    " \n",
    "len2 = len(b)\n",
    "print(maxArea(b, len2))"
   ]
  },
  {
   "cell_type": "code",
   "execution_count": null,
   "id": "d3df7a3e",
   "metadata": {},
   "outputs": [],
   "source": []
  }
 ],
 "metadata": {
  "kernelspec": {
   "display_name": "Python 3 (ipykernel)",
   "language": "python",
   "name": "python3"
  },
  "language_info": {
   "codemirror_mode": {
    "name": "ipython",
    "version": 3
   },
   "file_extension": ".py",
   "mimetype": "text/x-python",
   "name": "python",
   "nbconvert_exporter": "python",
   "pygments_lexer": "ipython3",
   "version": "3.9.12"
  }
 },
 "nbformat": 4,
 "nbformat_minor": 5
}
